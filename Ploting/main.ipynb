{
 "cells": [
  {
   "cell_type": "markdown",
   "metadata": {
    "collapsed": false
   },
   "source": [
    "# Questions to be solved\n",
    "① How do bitrate, network frame rate, and resolution vary over time?\n",
    "② How do bitrate and network frame-rate vary across stadia, Luna, and GFN?\n",
    "③ What is the correlation between Bitrate and frame rate across stadia, Luna, and GFN respectively?"
   ]
  },
  {
   "cell_type": "markdown",
   "metadata": {
    "collapsed": false
   },
   "source": [
    "### Define some variables in the task\n",
    "Actually I can't understand well about those tags"
   ]
  },
  {
   "cell_type": "code",
   "execution_count": 135,
   "metadata": {
    "collapsed": false
   },
   "outputs": [],
   "source": [
    "time = 'time_ms'\n",
    "bitrate = 'total_bps'\n",
    "network_fps = 'net_fps'\n",
    "\n",
    "# Resolution is defined inside functions, since it have to use width and height in each data matrix"
   ]
  },
  {
   "cell_type": "markdown",
   "metadata": {
    "collapsed": false
   },
   "source": [
    "# Q1. Aboute the 3 variables\n",
    "1. Want to have direct view of the trend over Time.\n",
    "2. Pick one *parsed_videoReceiveStream.json* file from each platform.\n",
    "3. Plot the Line Chart of variables vs Time.\n",
    "4. Observe the 9 plots"
   ]
  },
  {
   "cell_type": "code",
   "execution_count": 136,
   "metadata": {
    "collapsed": false
   },
   "outputs": [],
   "source": [
    "# input directories of JSON\n",
    "files = [\n",
    "    '/Users/suihua/Desktop/cloudgaming/task1/Dataset/gfn/fc5_gfn_lan_lab_0908/parsed_videoReceiveStream.json',\n",
    "    '/Users/suihua/Desktop/cloudgaming/task1/Dataset/luna/fc5_luna_lan_lab_0911/parsed_videoReceiveStream.json',\n",
    "    '/Users/suihua/Desktop/cloudgaming/task1/Dataset/stadia/fc5_stadia_lan_lab_0908/parsed_videoReceiveStream.json'\n",
    "]"
   ]
  },
  {
   "cell_type": "markdown",
   "metadata": {
    "collapsed": false
   },
   "source": [
    "### Define a function:\n",
    "input:  directories of parsed_videoReceiveStream.json\n",
    "return: 3 plots (fig1, fig2, fig3)"
   ]
  },
  {
   "cell_type": "code",
   "execution_count": 137,
   "metadata": {
    "collapsed": false
   },
   "outputs": [],
   "source": [
    "time = 'time_ms'\n",
    "bitrate = 'total_bps'\n",
    "network_fps = 'net_fps'\n",
    "# input directories of JSON\n",
    "files = [\n",
    "    '/Users/suihua/Desktop/cloudgaming/task1/Dataset/gfn/fc5_gfn_lan_lab_0908/parsed_videoReceiveStream.json',\n",
    "    '/Users/suihua/Desktop/cloudgaming/task1/Dataset/luna/fc5_luna_lan_lab_0911/parsed_videoReceiveStream.json',\n",
    "    '/Users/suihua/Desktop/cloudgaming/task1/Dataset/stadia/fc5_stadia_lan_lab_0908/parsed_videoReceiveStream.json'\n",
    "]\n",
    "import plotly.express as px\n",
    "import plotly.io as pio\n",
    "import pandas as pd\n",
    "import json\n",
    "\n",
    "def plotQ1(file):\n",
    "    # Load the file and extract the matrix, name it df\n",
    "    with open(file, 'r') as f:\n",
    "        data = json.load(f)\n",
    "\n",
    "    df_list = []\n",
    "\n",
    "    for tag, tag_data in data.items():\n",
    "        count = tag_data['count']\n",
    "        for i in range(count):\n",
    "            row_data = {}\n",
    "            for key, value in tag_data.items():\n",
    "                if key != 'count':\n",
    "                    row_data[key] = value[i]\n",
    "            df_list.append(row_data)\n",
    "\n",
    "    df = pd.DataFrame(df_list)\n",
    "\n",
    "\n",
    "    # Convert time_ms to datetime and set as index\n",
    "    df['time_ms'] = pd.to_datetime(df['time_ms'], unit='ms')\n",
    "    df.set_index('time_ms', inplace=True)\n",
    "\n",
    "    # define resolution：if width = 1920, height = 1080, then resolution = '1920*1080'\n",
    "    df['resolution'] = df['width'].astype(int).astype(str) + '*' + df['height'].astype(int).astype(str)\n",
    "\n",
    "    # bitrate vs time\n",
    "    fig1 = px.line(\n",
    "        df,\n",
    "        x=df.index,\n",
    "        y=bitrate,\n",
    "        title='Bitrate vs Time'\n",
    "    )\n",
    "\n",
    "    # nfps vs time\n",
    "    fig2 = px.line(\n",
    "        df,\n",
    "        x=df.index,\n",
    "        y=network_fps,\n",
    "        title='Network Frame Rate vs Time'\n",
    "    )\n",
    "\n",
    "    # resolution vs time\n",
    "    fig3 = px.line(\n",
    "        df,\n",
    "        x=df.index,\n",
    "        y='resolution',\n",
    "        title = 'Resolution vs Time'\n",
    "    )\n",
    "\n",
    "    # define 1080p>720p>0, make the plot looks better\n",
    "    fig3.update_layout(yaxis={'categoryorder': 'array', 'categoryarray': ['0*0', '1280*720', '1920*1080']})\n",
    "    return fig1, fig2, fig3"
   ]
  },
  {
   "cell_type": "markdown",
   "metadata": {
    "collapsed": false
   },
   "source": [
    "### Output the plots into png file"
   ]
  },
  {
   "cell_type": "code",
   "execution_count": 138,
   "metadata": {
    "collapsed": false
   },
   "outputs": [],
   "source": [
    "for i in [0,1,2]:\n",
    "    fig1, fig2, fig3 = plotQ1(files[i])\n",
    "    fig1.show()\n",
    "    fig2.show()\n",
    "    fig3.show()\n",
    "    # find out which platform is this output\n",
    "    if i == 0:\n",
    "        platform = 'gfn'\n",
    "    if i == 1:\n",
    "        platform = 'luna'\n",
    "    if i == 2:\n",
    "        platform = 'stadia'\n",
    "\n",
    "    pio.write_image(fig1, './Q1_Output/fig_'+platform+'_bps'+'.png')\n",
    "    pio.write_image(fig2, './Q1_Output/fig_'+platform+'_nfps'+'.png')\n",
    "    pio.write_image(fig3, './Q1_Output/fig_'+platform+'_res'+'.png')"
   ]
  },
  {
   "cell_type": "markdown",
   "metadata": {
    "collapsed": false
   },
   "source": []
  },
  {
   "cell_type": "markdown",
   "metadata": {
    "collapsed": false
   },
   "source": [
    "# Q2. Comparison of different platforms\n",
    "1. Want to plot a single Line Chart for each 'Bitrate' and 'NetFPS', 2 plots in total.\n",
    "2. x-axis is the 3 platforms and y-axis is the value. Each plot compares max, mean, median, min, stdev.\n",
    "3. First, for each platform, compute the average of the 5 value. Second, plot them into one Line Chart with 5 Lines."
   ]
  },
  {
   "cell_type": "markdown",
   "metadata": {
    "collapsed": false
   },
   "source": [
    "## Define a function:\n",
    "input: which tag do you want to track\n",
    "output: Generate a boxplot"
   ]
  },
  {
   "cell_type": "code",
   "execution_count": 139,
   "metadata": {
    "collapsed": false
   },
   "outputs": [],
   "source": [
    "import plotly.graph_objects as go\n",
    "import os\n",
    "\n",
    "def plotQ2(tag_name):\n",
    "    # 定义字典来存储每个平台的指标值\n",
    "    platforms = {'gfn': {}, 'stadia': {}, 'luna': {}}\n",
    "\n",
    "    # 遍历每个平台文件夹\n",
    "    for platform in platforms.keys():\n",
    "        # 获取平台文件夹路径\n",
    "        folder_path = f'/Users/suihua/Desktop/cloudgaming/task1/Dataset/{platform}'\n",
    "\n",
    "        # 遍历每个实验文件夹\n",
    "        for experiment in os.listdir(folder_path):\n",
    "            experiment_path = os.path.join(folder_path, experiment)\n",
    "\n",
    "            # 如果实验文件夹不是目录，则跳过\n",
    "            if not os.path.isdir(experiment_path):\n",
    "                continue\n",
    "\n",
    "            # 遍历实验文件夹中的所有JSON文件\n",
    "            for filename in os.listdir(experiment_path):\n",
    "                if filename != 'vrs_summary_stats.json':\n",
    "                    continue\n",
    "\n",
    "                # 读取JSON文件\n",
    "                file_path = os.path.join(experiment_path, filename)\n",
    "                with open(file_path) as f:\n",
    "                    data = json.load(f)\n",
    "\n",
    "                # 读取指定tag的值\n",
    "                value = data.get(tag_name)\n",
    "                if value is None:\n",
    "                    continue\n",
    "\n",
    "                # 更新平台字典中的值\n",
    "                for key, val in value.items():\n",
    "                    platform_key = f'{platform}_{tag_name}_{key}'\n",
    "                    if platform_key not in platforms[platform]:\n",
    "                        platforms[platform][platform_key] = []\n",
    "                    platforms[platform][platform_key].append(val)\n",
    "\n",
    "        # 计算每个平台的指标平均值\n",
    "        for key in platforms[platform].keys():\n",
    "            platforms[platform][key] = sum(platforms[platform][key]) / len(platforms[platform][key])\n",
    "\n",
    "    #  将平台字典转换为数据框\n",
    "    df = []\n",
    "    for platform, values in platforms.items():\n",
    "        for key, val in values.items():\n",
    "            metric, stat = key.split('_', 1)\n",
    "            df.append({'Platform': platform.upper(), 'Metric': metric.upper(), 'Stat': stat.upper(), 'Value': val})\n",
    "    df = pd.DataFrame(df)\n",
    "\n",
    "    # 使用go.Box绘制盒图\n",
    "    fig = go.Figure()\n",
    "    for metric in df['Metric'].unique():\n",
    "        metric_df = df[df['Metric'] == metric]\n",
    "        fig.add_trace(go.Box(x=metric_df['Platform'], y=metric_df['Value'], name=metric.upper(), boxpoints=False, boxmean=False))\n",
    "\n",
    "    # 设置图表标题和轴标签\n",
    "    fig.update_layout(title=f'{tag_name.upper()} across GFN, Stadia, and Luna', yaxis_title=f'{tag_name.upper()} ')\n",
    "\n",
    "    # 显示图表\n",
    "    fig.show()\n",
    "\n",
    "    # 保存图表\n",
    "    pio.write_image(fig, './Q2_Output/fig_'+str(tag_name)+'.png')"
   ]
  },
  {
   "cell_type": "code",
   "execution_count": 140,
   "metadata": {
    "collapsed": false
   },
   "outputs": [],
   "source": [
    "plotQ2(bitrate)"
   ]
  },
  {
   "cell_type": "code",
   "execution_count": 141,
   "metadata": {
    "collapsed": false
   },
   "outputs": [],
   "source": [
    "plotQ2(network_fps)"
   ]
  },
  {
   "cell_type": "markdown",
   "metadata": {
    "collapsed": false
   },
   "source": [
    "# Q3. Correlation between Bitrate and Frame Rate\n",
    "1. Use 1 json file for each platform.\n",
    "2. draw scatter charts. y-axis: nfps, x-axis: bitrate.\n",
    "\n",
    "First we read the data:"
   ]
  },
  {
   "cell_type": "code",
   "execution_count": 2,
   "metadata": {
    "collapsed": false,
    "ExecuteTime": {
     "end_time": "2023-07-25T13:08:34.624215Z",
     "start_time": "2023-07-25T13:08:33.724958Z"
    }
   },
   "outputs": [
    {
     "name": "stdout",
     "output_type": "stream",
     "text": [
      "<class 'pandas.core.frame.DataFrame'>\n",
      "RangeIndex: 31297 entries, 0 to 31296\n",
      "Data columns (total 33 columns):\n",
      " #   Column                              Non-Null Count  Dtype  \n",
      "---  ------                              --------------  -----  \n",
      " 0   current_delay                       31297 non-null  float64\n",
      " 1   dec_fps                             31297 non-null  float64\n",
      " 2   decode_delay                        31297 non-null  float64\n",
      " 3   first_frame_received_to_decoded_ms  31297 non-null  float64\n",
      " 4   frame_drop                          31297 non-null  float64\n",
      " 5   frames_decoded                      31297 non-null  float64\n",
      " 6   frames_rendered                     31297 non-null  float64\n",
      " 7   freeze_count                        31297 non-null  float64\n",
      " 8   height                              31297 non-null  float64\n",
      " 9   interframe_delay_max_ms             31297 non-null  float64\n",
      " 10  jb_cuml_delay                       31297 non-null  float64\n",
      " 11  jb_delay                            31297 non-null  float64\n",
      " 12  jb_emit_count                       31297 non-null  float64\n",
      " 13  max_decode_ms                       31297 non-null  float64\n",
      " 14  min_playout_delay_ms                31297 non-null  float64\n",
      " 15  net_fps                             31297 non-null  float64\n",
      " 16  pause_count                         31297 non-null  float64\n",
      " 17  ren_fps                             31297 non-null  float64\n",
      " 18  render_delay_ms                     31297 non-null  float64\n",
      " 19  rtx_bps                             31297 non-null  float64\n",
      " 20  rx_bps                              31297 non-null  float64\n",
      " 21  sum_squared_frame_durations         31297 non-null  float64\n",
      " 22  sync_offset_ms                      31297 non-null  float64\n",
      " 23  target_delay_ms                     31297 non-null  float64\n",
      " 24  time_ms                             31297 non-null  float64\n",
      " 25  total_bps                           31297 non-null  float64\n",
      " 26  total_decode_time_ms                31297 non-null  float64\n",
      " 27  total_frames_duration_ms            31297 non-null  float64\n",
      " 28  total_freezes_duration_ms           31297 non-null  float64\n",
      " 29  total_inter_frame_delay             31297 non-null  float64\n",
      " 30  total_pauses_duration_ms            31297 non-null  float64\n",
      " 31  total_squared_inter_frame_delay     31297 non-null  float64\n",
      " 32  width                               31297 non-null  float64\n",
      "dtypes: float64(33)\n",
      "memory usage: 7.9 MB\n",
      "<class 'pandas.core.frame.DataFrame'>\n",
      "RangeIndex: 32708 entries, 0 to 32707\n",
      "Data columns (total 33 columns):\n",
      " #   Column                              Non-Null Count  Dtype  \n",
      "---  ------                              --------------  -----  \n",
      " 0   current_delay                       32708 non-null  float64\n",
      " 1   dec_fps                             32708 non-null  float64\n",
      " 2   decode_delay                        32708 non-null  float64\n",
      " 3   first_frame_received_to_decoded_ms  32708 non-null  float64\n",
      " 4   frame_drop                          32708 non-null  float64\n",
      " 5   frames_decoded                      32708 non-null  float64\n",
      " 6   frames_rendered                     32708 non-null  float64\n",
      " 7   freeze_count                        32708 non-null  float64\n",
      " 8   height                              32708 non-null  float64\n",
      " 9   interframe_delay_max_ms             32708 non-null  float64\n",
      " 10  jb_cuml_delay                       32708 non-null  float64\n",
      " 11  jb_delay                            32708 non-null  float64\n",
      " 12  jb_emit_count                       32708 non-null  float64\n",
      " 13  max_decode_ms                       32708 non-null  float64\n",
      " 14  min_playout_delay_ms                32708 non-null  float64\n",
      " 15  net_fps                             32708 non-null  float64\n",
      " 16  pause_count                         32708 non-null  float64\n",
      " 17  ren_fps                             32708 non-null  float64\n",
      " 18  render_delay_ms                     32708 non-null  float64\n",
      " 19  rtx_bps                             32708 non-null  float64\n",
      " 20  rx_bps                              32708 non-null  float64\n",
      " 21  sum_squared_frame_durations         32708 non-null  float64\n",
      " 22  sync_offset_ms                      32708 non-null  float64\n",
      " 23  target_delay_ms                     32708 non-null  float64\n",
      " 24  time_ms                             32708 non-null  float64\n",
      " 25  total_bps                           32708 non-null  float64\n",
      " 26  total_decode_time_ms                32708 non-null  float64\n",
      " 27  total_frames_duration_ms            32708 non-null  float64\n",
      " 28  total_freezes_duration_ms           32708 non-null  float64\n",
      " 29  total_inter_frame_delay             32708 non-null  float64\n",
      " 30  total_pauses_duration_ms            32708 non-null  float64\n",
      " 31  total_squared_inter_frame_delay     32708 non-null  float64\n",
      " 32  width                               32708 non-null  float64\n",
      "dtypes: float64(33)\n",
      "memory usage: 8.2 MB\n",
      "<class 'pandas.core.frame.DataFrame'>\n",
      "RangeIndex: 32839 entries, 0 to 32838\n",
      "Data columns (total 33 columns):\n",
      " #   Column                              Non-Null Count  Dtype  \n",
      "---  ------                              --------------  -----  \n",
      " 0   current_delay                       32839 non-null  float64\n",
      " 1   dec_fps                             32839 non-null  float64\n",
      " 2   decode_delay                        32839 non-null  float64\n",
      " 3   first_frame_received_to_decoded_ms  32839 non-null  float64\n",
      " 4   frame_drop                          32839 non-null  float64\n",
      " 5   frames_decoded                      32839 non-null  float64\n",
      " 6   frames_rendered                     32839 non-null  float64\n",
      " 7   freeze_count                        32839 non-null  float64\n",
      " 8   height                              32839 non-null  float64\n",
      " 9   interframe_delay_max_ms             32839 non-null  float64\n",
      " 10  jb_cuml_delay                       32839 non-null  float64\n",
      " 11  jb_delay                            32839 non-null  float64\n",
      " 12  jb_emit_count                       32839 non-null  float64\n",
      " 13  max_decode_ms                       32839 non-null  float64\n",
      " 14  min_playout_delay_ms                32839 non-null  float64\n",
      " 15  net_fps                             32839 non-null  float64\n",
      " 16  pause_count                         32839 non-null  float64\n",
      " 17  ren_fps                             32839 non-null  float64\n",
      " 18  render_delay_ms                     32839 non-null  float64\n",
      " 19  rtx_bps                             32839 non-null  float64\n",
      " 20  rx_bps                              32839 non-null  float64\n",
      " 21  sum_squared_frame_durations         32839 non-null  float64\n",
      " 22  sync_offset_ms                      32839 non-null  float64\n",
      " 23  target_delay_ms                     32839 non-null  float64\n",
      " 24  time_ms                             32839 non-null  float64\n",
      " 25  total_bps                           32839 non-null  float64\n",
      " 26  total_decode_time_ms                32839 non-null  float64\n",
      " 27  total_frames_duration_ms            32839 non-null  float64\n",
      " 28  total_freezes_duration_ms           32839 non-null  float64\n",
      " 29  total_inter_frame_delay             32839 non-null  float64\n",
      " 30  total_pauses_duration_ms            32839 non-null  float64\n",
      " 31  total_squared_inter_frame_delay     32839 non-null  float64\n",
      " 32  width                               32839 non-null  float64\n",
      "dtypes: float64(33)\n",
      "memory usage: 8.3 MB\n"
     ]
    }
   ],
   "source": [
    "import plotly.express as px\n",
    "import plotly.io as pio\n",
    "import pandas as pd\n",
    "import json\n",
    "from scipy.stats import pearsonr\n",
    "\n",
    "bitrate = 'total_bps'\n",
    "network_fps = 'net_fps'\n",
    "\n",
    "files = [\n",
    "    '/Users/suihua/Desktop/cloudgaming/task1/Dataset/gfn/fc5_gfn_lan_lab_0923/parsed_videoReceiveStream.json',\n",
    "    '/Users/suihua/Desktop/cloudgaming/task1/Dataset/luna/fc5_luna_lan_lab_1007/parsed_videoReceiveStream.json',\n",
    "    '/Users/suihua/Desktop/cloudgaming/task1/Dataset/stadia/fc5_stadia_lan_lab_0911/parsed_videoReceiveStream.json'\n",
    "]\n",
    "\n",
    "for i in [0,1,2]:\n",
    "    file = files[i]\n",
    "    if i == 0:\n",
    "        platform = 'gfn'\n",
    "    if i == 1:\n",
    "        platform = 'luna'\n",
    "    if i == 2:\n",
    "        platform = 'stadia'\n",
    "\n",
    "    # Load the file and extract the matrix, name it df\n",
    "    with open(file, 'r') as f:\n",
    "        data = json.load(f)\n",
    "\n",
    "    df_list = []\n",
    "\n",
    "    for tag, tag_data in data.items():\n",
    "        count = tag_data['count']\n",
    "        for i in range(count):\n",
    "            row_data = {}\n",
    "            for key, value in tag_data.items():\n",
    "                if key != 'count':\n",
    "                    row_data[key] = value[i]\n",
    "            df_list.append(row_data)\n",
    "\n",
    "    df = pd.DataFrame(df_list)\n",
    "    df.info()"
   ]
  },
  {
   "cell_type": "code",
   "execution_count": 142,
   "outputs": [],
   "source": [
    "    # pearson's correlation coefficient\n",
    "    x = df[bitrate]\n",
    "    y = df[network_fps]\n",
    "    corr, _ = pearsonr(x, y)\n",
    "\n",
    "    fig = px.scatter(\n",
    "        df,\n",
    "        x=bitrate,\n",
    "        y=network_fps,\n",
    "        title='Bitrate vs Frame Rate (Corr: {:.2f})'.format(corr),\n",
    "    )\n",
    "    pio.write_image(fig, './Q3_Output/fig_'+platform+'.png')\n",
    "    fig.show()"
   ],
   "metadata": {
    "collapsed": false
   }
  }
 ],
 "metadata": {
  "kernelspec": {
   "display_name": "Python 3",
   "language": "python",
   "name": "python3"
  },
  "language_info": {
   "codemirror_mode": {
    "name": "ipython",
    "version": 2
   },
   "file_extension": ".py",
   "mimetype": "text/x-python",
   "name": "python",
   "nbconvert_exporter": "python",
   "pygments_lexer": "ipython2",
   "version": "2.7.6"
  }
 },
 "nbformat": 4,
 "nbformat_minor": 0
}
